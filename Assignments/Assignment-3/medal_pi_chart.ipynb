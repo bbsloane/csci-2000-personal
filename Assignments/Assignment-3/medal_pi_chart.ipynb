{
 "cells": [
  {
   "cell_type": "code",
   "execution_count": 8,
   "metadata": {
    "collapsed": false
   },
   "outputs": [],
   "source": [
    "import matplotlib.pylab as plt\n",
    "\n",
    "chart_title = \"2012 Olympic gold medals 100568757\"\n",
    "plt.title(chart_title)\n",
    "\n",
    "slice_fractions = []\n",
    "slice_fractions.append(46)\n",
    "slice_fractions.append(38)\n",
    "slice_fractions.append(29)\n",
    "slice_fractions.append(24)\n",
    "slice_fractions.append(13)\n",
    "slice_fractions.append(11)\n",
    "slice_fractions.append(11)\n",
    "slice_fractions.append(8)\n",
    "slice_fractions.append(8)\n",
    "slice_fractions.append(7)\n",
    "slice_fractions.append(107)\n",
    "\n",
    "COUNTRIES = []\n",
    "\n",
    "COUNTRIES.append('USA')\n",
    "COUNTRIES.append('CHN')\n",
    "COUNTRIES.append('GBR')\n",
    "COUNTRIES.append('RUS')\n",
    "COUNTRIES.append('KOR')\n",
    "COUNTRIES.append('GER')\n",
    "COUNTRIES.append('FRA')\n",
    "COUNTRIES.append('ITA')\n",
    "COUNTRIES.append('HUN')\n",
    "COUNTRIES.append('AUS')\n",
    "COUNTRIES.append('OTHER')\n",
    "\n",
    "SLICE_COLORS = []\n",
    "\n",
    "SLICE_COLORS.append('RED')\n",
    "SLICE_COLORS.append('BLUE')\n",
    "SLICE_COLORS.append('GREEN')\n",
    "SLICE_COLORS.append('ORANGE')\n",
    "SLICE_COLORS.append('YELLOW')\n",
    "SLICE_COLORS.append('WHITE')\n",
    "SLICE_COLORS.append('BLACK')\n",
    "SLICE_COLORS.append('PURPLE')\n",
    "SLICE_COLORS.append('PINK')\n",
    "SLICE_COLORS.append('VIOLET')\n",
    "SLICE_COLORS.append('TEAL')\n",
    "\n",
    "plt.pie(slice_fractions, labels = COUNTRIES, colors = SLICE_COLORS)\n",
    "plt.show()"
   ]
  },
  {
   "cell_type": "code",
   "execution_count": null,
   "metadata": {
    "collapsed": true
   },
   "outputs": [],
   "source": []
  }
 ],
 "metadata": {
  "kernelspec": {
   "display_name": "Python 2",
   "language": "python",
   "name": "python2"
  },
  "language_info": {
   "codemirror_mode": {
    "name": "ipython",
    "version": 2
   },
   "file_extension": ".py",
   "mimetype": "text/x-python",
   "name": "python",
   "nbconvert_exporter": "python",
   "pygments_lexer": "ipython2",
   "version": "2.7.10"
  }
 },
 "nbformat": 4,
 "nbformat_minor": 0
}
