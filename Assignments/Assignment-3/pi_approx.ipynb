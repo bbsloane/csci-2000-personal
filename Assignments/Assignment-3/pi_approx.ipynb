{
 "cells": [
  {
   "cell_type": "code",
   "execution_count": 43,
   "metadata": {
    "collapsed": false
   },
   "outputs": [
    {
     "name": "stdout",
     "output_type": "stream",
     "text": [
      "When n = 10, pi_1 = 3.0418396189294032\n",
      "When n = 10, pi_2 = 3.04936163598207\n",
      "When n = 10, pi_3 = 3.1413846224669713\n",
      "When n = 100, pi_1 = 3.1315929035585537\n",
      "When n = 100, pi_2 = 3.1320765318091053\n",
      "When n = 100, pi_3 = 3.1415924153073678\n",
      "When n = 1000, pi_1 = 3.140592653839794\n",
      "When n = 1000, pi_2 = 3.1406380562059946\n",
      "When n = 1000, pi_3 = 3.1415926533482703\n",
      "When n = 10000, pi_1 = 3.1414926535900345\n",
      "When n = 10000, pi_2 = 3.1414971639472147\n",
      "When n = 10000, pi_3 = 3.141592653589592\n",
      "When n = 100000, pi_1 = 3.1415826535897198\n",
      "When n = 100000, pi_2 = 3.141583104326456\n",
      "When n = 100000, pi_3 = 3.141592653589592\n",
      "When n = 1000000, pi_1 = 3.1415916535897743\n",
      "When n = 1000000, pi_2 = 3.1415916986605086\n",
      "When n = 1000000, pi_3 = 3.141592653589592\n"
     ]
    }
   ],
   "source": [
    "def PRINT():\n",
    "    \n",
    "    print('When n = 10, pi_1 = ' + str(pi_1(10)))\n",
    "    print('When n = 10, pi_2 = ' + str(pi_2(10)))\n",
    "    print('When n = 10, pi_3 = ' + str(pi_3(10)))\n",
    "    print('When n = 100, pi_1 = ' + str(pi_1(100)))\n",
    "    print('When n = 100, pi_2 = ' + str(pi_2(100)))\n",
    "    print('When n = 100, pi_3 = ' + str(pi_3(100)))\n",
    "    print('When n = 1000, pi_1 = ' + str(pi_1(1000)))\n",
    "    print('When n = 1000, pi_2 = ' + str(pi_2(1000)))\n",
    "    print('When n = 1000, pi_3 = ' + str(pi_3(1000)))\n",
    "    print('When n = 10000, pi_1 = ' + str(pi_1(10000)))\n",
    "    print('When n = 10000, pi_2 = ' + str(pi_2(10000)))\n",
    "    print('When n = 10000, pi_3 = ' + str(pi_3(10000)))\n",
    "    print('When n = 100000, pi_1 = ' + str(pi_1(100000)))\n",
    "    print('When n = 100000, pi_2 = ' + str(pi_2(100000)))\n",
    "    print('When n = 100000, pi_3 = ' + str(pi_3(100000)))\n",
    "    print('When n = 1000000, pi_1 = ' + str(pi_1(1000000)))\n",
    "    print('When n = 1000000, pi_2 = ' + str(pi_2(1000000)))\n",
    "    print('When n = 1000000, pi_3 = ' + str(pi_3(1000000)))\n",
    "\n",
    "def pi_1(n):\n",
    "    total = 0.0\n",
    "    for k in range(1,n+1):\n",
    "        denominator = (2*k) - (1)\n",
    "        numerator = (-1)**(k+1)\n",
    "        total_loop = numerator / denominator\n",
    "        total = total + total_loop\n",
    "    return total * 4\n",
    "        \n",
    "        \n",
    "\n",
    "def pi_2(n):\n",
    "    total = 0.0\n",
    "    for k in range(1,n+1):\n",
    "        denominator = k**2\n",
    "        numerator = 1\n",
    "        total_loop = numerator / denominator\n",
    "        total = total + total_loop\n",
    "    total = (total*6)**(0.5)\n",
    "    return total\n",
    "        \n",
    "    \n",
    "def pi_3(n):\n",
    "    total = 0.0\n",
    "    for k in range(1,n+1):\n",
    "        denominator = k**4\n",
    "        numerator = 1\n",
    "        total_loop = numerator / denominator\n",
    "        total = total + total_loop\n",
    "    total = (total*90)**0.25\n",
    "    return total\n",
    "    \n",
    "    \n",
    "\n",
    "\n",
    "        \n",
    "        \n",
    "\n",
    "PRINT()"
   ]
  },
  {
   "cell_type": "code",
   "execution_count": null,
   "metadata": {
    "collapsed": true
   },
   "outputs": [],
   "source": []
  }
 ],
 "metadata": {
  "kernelspec": {
   "display_name": "Python 3",
   "language": "python",
   "name": "python3"
  },
  "language_info": {
   "codemirror_mode": {
    "name": "ipython",
    "version": 3
   },
   "file_extension": ".py",
   "mimetype": "text/x-python",
   "name": "python",
   "nbconvert_exporter": "python",
   "pygments_lexer": "ipython3",
   "version": "3.4.3"
  }
 },
 "nbformat": 4,
 "nbformat_minor": 0
}
